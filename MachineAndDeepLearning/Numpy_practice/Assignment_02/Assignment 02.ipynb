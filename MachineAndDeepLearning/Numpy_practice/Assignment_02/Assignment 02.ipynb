{
 "cells": [
  {
   "cell_type": "markdown",
   "metadata": {},
   "source": [
    "<img src=\"http://cfs22.simplicdn.net/ice9/new_logo.svgz \"/>\n",
    "\n",
    "# Assignment 02: Evaluate the Summer Olympics, London 2012 dataset\n",
    "\n",
    "*The comments/sections provided are your cues to perform the assignment. You don't need to limit yourself to the number of rows/cells provided. You can add additional rows in each section to add more lines of code.*\n",
    "\n",
    "*If at any point in time you need help on solving this assignment, view our demo video to understand the different steps of the code.*\n",
    "\n",
    "**Happy coding!**\n",
    "\n",
    "* * *"
   ]
  },
  {
   "cell_type": "markdown",
   "metadata": {},
   "source": [
    "#### 1: View and add the dataset"
   ]
  },
  {
   "cell_type": "code",
   "execution_count": 19,
   "metadata": {},
   "outputs": [],
   "source": [
    "#Import the necessary library\n",
    "import numpy as np"
   ]
  },
  {
   "cell_type": "code",
   "execution_count": 21,
   "metadata": {},
   "outputs": [],
   "source": [
    "#Manually add the Summer Olympics, London 2012 dataset as arrays\n",
    "country_code = np.asarray(['GBR','CHN','RUS','US','KOR','JPN','GER'])\n",
    "Year = np.asarray([2012,2012,2012,2012,2012,2012,2012])\n",
    "Gold_medal = np.asarray([29,38,24,46,13,7,11])\n",
    "Silver = np.asarray([17,28,25,28,8,14,11])\n",
    "Bronze = np.asarray([19,22,32,29,7,17,14])"
   ]
  },
  {
   "cell_type": "markdown",
   "metadata": {},
   "source": [
    "#### Find the country with maximum gold medals"
   ]
  },
  {
   "cell_type": "code",
   "execution_count": 8,
   "metadata": {},
   "outputs": [],
   "source": [
    "#Use the argmax() method to find the highest number of gold medals\n"
   ]
  },
  {
   "cell_type": "code",
   "execution_count": 22,
   "metadata": {},
   "outputs": [
    {
     "name": "stdout",
     "output_type": "stream",
     "text": [
      "US\n"
     ]
    }
   ],
   "source": [
    "#Print the name of the country\n",
    "print(country_code[Gold_medal.argmax()])"
   ]
  },
  {
   "cell_type": "markdown",
   "metadata": {},
   "source": [
    "#### Find the countries with more than 20 gold medals"
   ]
  },
  {
   "cell_type": "code",
   "execution_count": 23,
   "metadata": {},
   "outputs": [
    {
     "name": "stdout",
     "output_type": "stream",
     "text": [
      "['GBR' 'CHN' 'RUS' 'US']\n"
     ]
    }
   ],
   "source": [
    "#Use Boolean indexing technique to find the required output\n",
    "print(country_code[Gold_medal>20])"
   ]
  },
  {
   "cell_type": "markdown",
   "metadata": {},
   "source": [
    "#### Evaluate the dataset and print the name of each country with its gold medals and total number of medals"
   ]
  },
  {
   "cell_type": "code",
   "execution_count": 27,
   "metadata": {},
   "outputs": [
    {
     "name": "stdout",
     "output_type": "stream",
     "text": [
      "country name is GBR having gold medals 29 and total medals 65\n",
      "country name is CHN having gold medals 38 and total medals 88\n",
      "country name is RUS having gold medals 24 and total medals 81\n",
      "country name is US having gold medals 46 and total medals 103\n",
      "country name is KOR having gold medals 13 and total medals 28\n",
      "country name is JPN having gold medals 7 and total medals 38\n",
      "country name is GER having gold medals 11 and total medals 36\n"
     ]
    }
   ],
   "source": [
    "#Use a for loop to create the required output\n",
    "for i in range(len(country_code)):\n",
    "    print(\"country name is {} having gold medals {} and total medals {}\".format(country_code[i],Gold_medal[i],(Gold_medal[i]+ Silver[i]+Bronze[i])))"
   ]
  }
 ],
 "metadata": {
  "kernelspec": {
   "display_name": "Python 3",
   "language": "python",
   "name": "python3"
  },
  "language_info": {
   "codemirror_mode": {
    "name": "ipython",
    "version": 3
   },
   "file_extension": ".py",
   "mimetype": "text/x-python",
   "name": "python",
   "nbconvert_exporter": "python",
   "pygments_lexer": "ipython3",
   "version": "3.7.4"
  }
 },
 "nbformat": 4,
 "nbformat_minor": 1
}
